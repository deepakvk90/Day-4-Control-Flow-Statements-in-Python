{
 "cells": [
  {
   "cell_type": "markdown",
   "id": "1632907e",
   "metadata": {},
   "source": [
    "# Day 4"
   ]
  },
  {
   "cell_type": "markdown",
   "id": "4ff95ec9",
   "metadata": {},
   "source": [
    "# Control Flow Statements"
   ]
  },
  {
   "cell_type": "markdown",
   "id": "d023041d",
   "metadata": {},
   "source": [
    "# if condition"
   ]
  },
  {
   "cell_type": "markdown",
   "id": "aea5280f",
   "metadata": {},
   "source": [
    "wirte a program to calculate the percentage of a student in the subjects maths science socal eng and hindi"
   ]
  },
  {
   "cell_type": "code",
   "execution_count": 6,
   "id": "826c5eef",
   "metadata": {},
   "outputs": [
    {
     "name": "stdout",
     "output_type": "stream",
     "text": [
      "Enter the name of a studentAnil\n",
      "enter the marks scored in english89\n",
      "enter the marks scored in hindi87\n",
      "enter the marks scored in science88\n",
      "enter the marks scored in social90\n",
      "enter the marks scored in maths92\n",
      "the percent scored by student is 89.2\n"
     ]
    }
   ],
   "source": [
    "x = input(\"Enter the name of a student\")\n",
    "a = int(input(\"enter the marks scored in english\"))\n",
    "b = int(input(\"enter the marks scored in hindi\"))\n",
    "c = int(input(\"enter the marks scored in science\"))\n",
    "d = int(input(\"enter the marks scored in social\"))\n",
    "e = int(input(\"enter the marks scored in maths\"))\n",
    "n = ((a+b+c+d+e)/500)*100\n",
    "print(\"the percent scored by student is\", n)"
   ]
  },
  {
   "cell_type": "code",
   "execution_count": 20,
   "id": "24a20114",
   "metadata": {},
   "outputs": [
    {
     "name": "stdout",
     "output_type": "stream",
     "text": [
      "enter the name of the employeeAnil\n",
      "enter the amount of Basic18000\n",
      "enter the amount of DA12000\n",
      "enter the amount of HRA13000\n",
      "enter the amount of Spl Allow7000\n",
      "enter the amount of PF1800\n",
      "enter the amount of TDS3000\n",
      "net salary of the employee 45200\n"
     ]
    }
   ],
   "source": [
    "h = input(\"enter the name of the employee\")\n",
    "i = int(input(\"enter the amount of Basic\"))\n",
    "j = int(input(\"enter the amount of DA\"))\n",
    "k = int(input(\"enter the amount of HRA\"))\n",
    "l = int(input(\"enter the amount of Spl Allow\"))\n",
    "m = int(input(\"enter the amount of PF\"))\n",
    "n = int(input(\"enter the amount of TDS\"))\n",
    "o = ((i+j+k+l-m-n))\n",
    "print(\"net salary of the employee\", o)"
   ]
  },
  {
   "cell_type": "code",
   "execution_count": 7,
   "id": "060ca7d8",
   "metadata": {},
   "outputs": [
    {
     "name": "stdout",
     "output_type": "stream",
     "text": [
      "Enter the percentage scored by a student80\n",
      "B grade\n"
     ]
    }
   ],
   "source": [
    "a = int(input(\"Enter the percentage scored by a student\"))\n",
    "if a>90:\n",
    "    print(\"A grade\")\n",
    "if a>=75 and a<90:\n",
    "    print(\"B grade\")\n",
    "if a>=65 and a<75:\n",
    "    print(\"C grade\")"
   ]
  },
  {
   "cell_type": "markdown",
   "id": "32da9221",
   "metadata": {},
   "source": [
    "# if else statement"
   ]
  },
  {
   "cell_type": "markdown",
   "id": "5e443a83",
   "metadata": {},
   "source": [
    "write a program to display hello if number entered by a user is a multiple of 5 else print bye"
   ]
  },
  {
   "cell_type": "code",
   "execution_count": 9,
   "id": "8cfcf480",
   "metadata": {},
   "outputs": [
    {
     "name": "stdout",
     "output_type": "stream",
     "text": [
      "enter the number36\n",
      "bye\n"
     ]
    }
   ],
   "source": [
    "a = int(input(\"enter the number\"))\n",
    "if a%5==0:\n",
    "    print(\"hello\")\n",
    "else:\n",
    "    print(\"bye\")"
   ]
  },
  {
   "cell_type": "code",
   "execution_count": 13,
   "id": "be746ead",
   "metadata": {},
   "outputs": [
    {
     "name": "stdout",
     "output_type": "stream",
     "text": [
      "enter the number-8\n",
      "negative number\n"
     ]
    }
   ],
   "source": [
    "a = int(input(\"enter the number\"))\n",
    "if a>0:\n",
    "    print(\"positive number\")\n",
    "else:\n",
    "    print(\"negative number\")"
   ]
  },
  {
   "cell_type": "markdown",
   "id": "59883b99",
   "metadata": {},
   "source": [
    "# if - elif - else"
   ]
  },
  {
   "cell_type": "code",
   "execution_count": null,
   "id": "1f652df5",
   "metadata": {},
   "outputs": [],
   "source": [
    "accept the city and print its monument\n",
    "Delhi - Red Fort\n",
    "Agra - Taj Mahal\n",
    "Jaipur - Jalmahal\n",
    "Odisa - Konak Temple\n",
    "hyderabad - Charminar\n",
    "Other - Record not found"
   ]
  },
  {
   "cell_type": "code",
   "execution_count": 17,
   "id": "555c45a9",
   "metadata": {},
   "outputs": [
    {
     "name": "stdout",
     "output_type": "stream",
     "text": [
      "enter the cityKanpur\n",
      "no record found\n"
     ]
    }
   ],
   "source": [
    "city = input(\"enter the city\")\n",
    "if city == \"Delhi\":\n",
    "    print(\"The monument in Delhi is Redfort\")\n",
    "elif city == \"Agra\":\n",
    "    print(\"The monument in Agra is Tajmahal\")\n",
    "elif city == \"Jaipur\":\n",
    "    print(\"The monument in Jaipur is Jalmahal\")\n",
    "elif city == \"Odisa\":\n",
    "    print(\"The monument in Odisa is Konak Temple\")\n",
    "elif city == \"hyderabad\":\n",
    "    print(\"The monument in Hyderabad is Charminar\")\n",
    "else:\n",
    "    print(\"no record found\")"
   ]
  },
  {
   "cell_type": "code",
   "execution_count": null,
   "id": "878e5d68",
   "metadata": {},
   "outputs": [],
   "source": []
  }
 ],
 "metadata": {
  "kernelspec": {
   "display_name": "Python 3 (ipykernel)",
   "language": "python",
   "name": "python3"
  },
  "language_info": {
   "codemirror_mode": {
    "name": "ipython",
    "version": 3
   },
   "file_extension": ".py",
   "mimetype": "text/x-python",
   "name": "python",
   "nbconvert_exporter": "python",
   "pygments_lexer": "ipython3",
   "version": "3.11.4"
  }
 },
 "nbformat": 4,
 "nbformat_minor": 5
}
